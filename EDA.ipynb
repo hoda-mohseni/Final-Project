{
 "cells": [
  {
   "cell_type": "code",
   "execution_count": 1,
   "id": "675173ab",
   "metadata": {},
   "outputs": [],
   "source": [
    "# import libraries\n",
    "import pandas as pd\n",
    "import numpy as np\n",
    "import matplotlib.pyplot as plt\n",
    "import seaborn as sb\n",
    "import warnings\n",
    "\n",
    "# Ignore warnings\n",
    "warnings.filterwarnings(\"ignore\")"
   ]
  },
  {
   "cell_type": "code",
   "execution_count": 2,
   "id": "32f8cf71",
   "metadata": {},
   "outputs": [],
   "source": [
    "# import dataset\n",
    "path='/Users/hoda/Downloads/DATA SET/amazon_reviews_us_Video_DVD_v1_00.tsv'\n",
    "df=pd.read_csv(path,delimiter='\\t',error_bad_lines=False,warn_bad_lines=False)\n"
   ]
  },
  {
   "cell_type": "code",
   "execution_count": 55,
   "id": "2c1d9559",
   "metadata": {},
   "outputs": [
    {
     "data": {
      "text/html": [
       "<div>\n",
       "<style scoped>\n",
       "    .dataframe tbody tr th:only-of-type {\n",
       "        vertical-align: middle;\n",
       "    }\n",
       "\n",
       "    .dataframe tbody tr th {\n",
       "        vertical-align: top;\n",
       "    }\n",
       "\n",
       "    .dataframe thead th {\n",
       "        text-align: right;\n",
       "    }\n",
       "</style>\n",
       "<table border=\"1\" class=\"dataframe\">\n",
       "  <thead>\n",
       "    <tr style=\"text-align: right;\">\n",
       "      <th></th>\n",
       "      <th>marketplace</th>\n",
       "      <th>customer_id</th>\n",
       "      <th>review_id</th>\n",
       "      <th>product_id</th>\n",
       "      <th>product_parent</th>\n",
       "      <th>product_title</th>\n",
       "      <th>product_category</th>\n",
       "      <th>star_rating</th>\n",
       "      <th>helpful_votes</th>\n",
       "      <th>total_votes</th>\n",
       "      <th>vine</th>\n",
       "      <th>verified_purchase</th>\n",
       "      <th>review_headline</th>\n",
       "      <th>review_body</th>\n",
       "      <th>review_date</th>\n",
       "    </tr>\n",
       "  </thead>\n",
       "  <tbody>\n",
       "    <tr>\n",
       "      <th>0</th>\n",
       "      <td>US</td>\n",
       "      <td>27288431</td>\n",
       "      <td>R33UPQQUZQEM8</td>\n",
       "      <td>B005T4ND06</td>\n",
       "      <td>400024643</td>\n",
       "      <td>Yoga for Movement Disorders DVD: Rebuilding St...</td>\n",
       "      <td>Video DVD</td>\n",
       "      <td>5.0</td>\n",
       "      <td>3.0</td>\n",
       "      <td>3.0</td>\n",
       "      <td>N</td>\n",
       "      <td>Y</td>\n",
       "      <td>This was a gift for my aunt who has Parkinson'...</td>\n",
       "      <td>This was a gift for my aunt who has Parkinson'...</td>\n",
       "      <td>2015-08-31</td>\n",
       "    </tr>\n",
       "    <tr>\n",
       "      <th>1</th>\n",
       "      <td>US</td>\n",
       "      <td>13722556</td>\n",
       "      <td>R3IKTNQQPD9662</td>\n",
       "      <td>B004EPZ070</td>\n",
       "      <td>685335564</td>\n",
       "      <td>Something Borrowed</td>\n",
       "      <td>Video DVD</td>\n",
       "      <td>5.0</td>\n",
       "      <td>0.0</td>\n",
       "      <td>0.0</td>\n",
       "      <td>N</td>\n",
       "      <td>Y</td>\n",
       "      <td>Five Stars</td>\n",
       "      <td>Teats my heart out.</td>\n",
       "      <td>2015-08-31</td>\n",
       "    </tr>\n",
       "    <tr>\n",
       "      <th>2</th>\n",
       "      <td>US</td>\n",
       "      <td>20381037</td>\n",
       "      <td>R3U27V5QMCP27T</td>\n",
       "      <td>B005S9EKCW</td>\n",
       "      <td>922008804</td>\n",
       "      <td>Les Miserables (2012) [Blu-ray]</td>\n",
       "      <td>Video DVD</td>\n",
       "      <td>5.0</td>\n",
       "      <td>1.0</td>\n",
       "      <td>1.0</td>\n",
       "      <td>N</td>\n",
       "      <td>Y</td>\n",
       "      <td>Great movie!</td>\n",
       "      <td>Great movie.</td>\n",
       "      <td>2015-08-31</td>\n",
       "    </tr>\n",
       "    <tr>\n",
       "      <th>3</th>\n",
       "      <td>US</td>\n",
       "      <td>24852644</td>\n",
       "      <td>R2TOH2QKNK4IOC</td>\n",
       "      <td>B00FC1ZCB4</td>\n",
       "      <td>326560548</td>\n",
       "      <td>Alien Anthology and Prometheus Bundle [Blu-ray]</td>\n",
       "      <td>Video DVD</td>\n",
       "      <td>5.0</td>\n",
       "      <td>0.0</td>\n",
       "      <td>1.0</td>\n",
       "      <td>N</td>\n",
       "      <td>Y</td>\n",
       "      <td>Amazing</td>\n",
       "      <td>My husband was so excited to receive these as ...</td>\n",
       "      <td>2015-08-31</td>\n",
       "    </tr>\n",
       "    <tr>\n",
       "      <th>4</th>\n",
       "      <td>US</td>\n",
       "      <td>15556113</td>\n",
       "      <td>R2XQG5NJ59UFMY</td>\n",
       "      <td>B002ZG98Z0</td>\n",
       "      <td>637495038</td>\n",
       "      <td>Sex and the City 2</td>\n",
       "      <td>Video DVD</td>\n",
       "      <td>5.0</td>\n",
       "      <td>0.0</td>\n",
       "      <td>0.0</td>\n",
       "      <td>N</td>\n",
       "      <td>Y</td>\n",
       "      <td>Five Stars</td>\n",
       "      <td>Love this series.</td>\n",
       "      <td>2015-08-31</td>\n",
       "    </tr>\n",
       "  </tbody>\n",
       "</table>\n",
       "</div>"
      ],
      "text/plain": [
       "  marketplace  customer_id       review_id  product_id  product_parent  \\\n",
       "0          US     27288431   R33UPQQUZQEM8  B005T4ND06       400024643   \n",
       "1          US     13722556  R3IKTNQQPD9662  B004EPZ070       685335564   \n",
       "2          US     20381037  R3U27V5QMCP27T  B005S9EKCW       922008804   \n",
       "3          US     24852644  R2TOH2QKNK4IOC  B00FC1ZCB4       326560548   \n",
       "4          US     15556113  R2XQG5NJ59UFMY  B002ZG98Z0       637495038   \n",
       "\n",
       "                                       product_title product_category  \\\n",
       "0  Yoga for Movement Disorders DVD: Rebuilding St...        Video DVD   \n",
       "1                                 Something Borrowed        Video DVD   \n",
       "2                    Les Miserables (2012) [Blu-ray]        Video DVD   \n",
       "3    Alien Anthology and Prometheus Bundle [Blu-ray]        Video DVD   \n",
       "4                                 Sex and the City 2        Video DVD   \n",
       "\n",
       "   star_rating  helpful_votes  total_votes vine verified_purchase  \\\n",
       "0          5.0            3.0          3.0    N                 Y   \n",
       "1          5.0            0.0          0.0    N                 Y   \n",
       "2          5.0            1.0          1.0    N                 Y   \n",
       "3          5.0            0.0          1.0    N                 Y   \n",
       "4          5.0            0.0          0.0    N                 Y   \n",
       "\n",
       "                                     review_headline  \\\n",
       "0  This was a gift for my aunt who has Parkinson'...   \n",
       "1                                         Five Stars   \n",
       "2                                       Great movie!   \n",
       "3                                            Amazing   \n",
       "4                                         Five Stars   \n",
       "\n",
       "                                         review_body review_date  \n",
       "0  This was a gift for my aunt who has Parkinson'...  2015-08-31  \n",
       "1                                Teats my heart out.  2015-08-31  \n",
       "2                                       Great movie.  2015-08-31  \n",
       "3  My husband was so excited to receive these as ...  2015-08-31  \n",
       "4                                  Love this series.  2015-08-31  "
      ]
     },
     "execution_count": 55,
     "metadata": {},
     "output_type": "execute_result"
    }
   ],
   "source": [
    "# checking the 5 first rows\n",
    "df.head(5)"
   ]
  },
  {
   "cell_type": "code",
   "execution_count": 56,
   "id": "c528b66d",
   "metadata": {},
   "outputs": [
    {
     "data": {
      "text/plain": [
       "Index(['marketplace', 'customer_id', 'review_id', 'product_id',\n",
       "       'product_parent', 'product_title', 'product_category', 'star_rating',\n",
       "       'helpful_votes', 'total_votes', 'vine', 'verified_purchase',\n",
       "       'review_headline', 'review_body', 'review_date'],\n",
       "      dtype='object')"
      ]
     },
     "execution_count": 56,
     "metadata": {},
     "output_type": "execute_result"
    }
   ],
   "source": [
    "# Data columns' name\n",
    "df.columns"
   ]
  },
  {
   "cell_type": "code",
   "execution_count": 57,
   "id": "ae216803",
   "metadata": {},
   "outputs": [
    {
     "name": "stdout",
     "output_type": "stream",
     "text": [
      "(5049291, 15)\n",
      "Total reviews: 5049291\n"
     ]
    }
   ],
   "source": [
    "# size of Dataset\n",
    "print(df.shape)\n",
    "print('Total reviews:',df.shape[0])\n",
    "\n"
   ]
  },
  {
   "cell_type": "code",
   "execution_count": 58,
   "id": "88c17dd7",
   "metadata": {},
   "outputs": [
    {
     "name": "stdout",
     "output_type": "stream",
     "text": [
      "<class 'pandas.core.frame.DataFrame'>\n",
      "RangeIndex: 5049291 entries, 0 to 5049290\n",
      "Data columns (total 15 columns):\n",
      " #   Column             Non-Null Count    Dtype         \n",
      "---  ------             --------------    -----         \n",
      " 0   marketplace        5049291 non-null  object        \n",
      " 1   customer_id        5049291 non-null  int64         \n",
      " 2   review_id          5049291 non-null  object        \n",
      " 3   product_id         5049291 non-null  object        \n",
      " 4   product_parent     5049291 non-null  int64         \n",
      " 5   product_title      5049291 non-null  object        \n",
      " 6   product_category   5049291 non-null  object        \n",
      " 7   star_rating        5049287 non-null  float64       \n",
      " 8   helpful_votes      5049287 non-null  float64       \n",
      " 9   total_votes        5049287 non-null  float64       \n",
      " 10  vine               5049287 non-null  object        \n",
      " 11  verified_purchase  5049287 non-null  object        \n",
      " 12  review_headline    5049218 non-null  object        \n",
      " 13  review_body        5049260 non-null  object        \n",
      " 14  review_date        5048855 non-null  datetime64[ns]\n",
      "dtypes: datetime64[ns](1), float64(3), int64(2), object(9)\n",
      "memory usage: 577.8+ MB\n"
     ]
    }
   ],
   "source": [
    "# checking Null values\n",
    "df.info(null_counts=True)"
   ]
  },
  {
   "cell_type": "code",
   "execution_count": 59,
   "id": "d37011f7",
   "metadata": {},
   "outputs": [
    {
     "name": "stdout",
     "output_type": "stream",
     "text": [
      "Total number of ratings  : 5\n",
      "Total number of users    : 2071004\n",
      "Total number of products : 297525\n"
     ]
    }
   ],
   "source": [
    "print(\"Total number of ratings  :\",df.star_rating.nunique())\n",
    "print(\"Total number of users    :\", df.customer_id.nunique())\n",
    "print(\"Total number of products :\", df.product_id.nunique())"
   ]
  },
  {
   "cell_type": "code",
   "execution_count": 63,
   "id": "f0a4641d",
   "metadata": {},
   "outputs": [
    {
     "data": {
      "text/plain": [
       "marketplace          False\n",
       "customer_id          False\n",
       "review_id            False\n",
       "product_id           False\n",
       "product_parent       False\n",
       "product_title        False\n",
       "product_category     False\n",
       "star_rating          False\n",
       "helpful_votes        False\n",
       "total_votes          False\n",
       "vine                 False\n",
       "verified_purchase    False\n",
       "review_headline      False\n",
       "review_body          False\n",
       "review_date          False\n",
       "dtype: bool"
      ]
     },
     "execution_count": 63,
     "metadata": {},
     "output_type": "execute_result"
    }
   ],
   "source": [
    "# Checking duplacte rows\n",
    "duplicate=df[df.duplicated()]\n",
    "duplicate.any()"
   ]
  },
  {
   "cell_type": "code",
   "execution_count": 64,
   "id": "e52b6c91",
   "metadata": {},
   "outputs": [
    {
     "data": {
      "text/html": [
       "<div>\n",
       "<style scoped>\n",
       "    .dataframe tbody tr th:only-of-type {\n",
       "        vertical-align: middle;\n",
       "    }\n",
       "\n",
       "    .dataframe tbody tr th {\n",
       "        vertical-align: top;\n",
       "    }\n",
       "\n",
       "    .dataframe thead th {\n",
       "        text-align: right;\n",
       "    }\n",
       "</style>\n",
       "<table border=\"1\" class=\"dataframe\">\n",
       "  <thead>\n",
       "    <tr style=\"text-align: right;\">\n",
       "      <th></th>\n",
       "      <th>customer_id</th>\n",
       "      <th>product_parent</th>\n",
       "      <th>star_rating</th>\n",
       "      <th>helpful_votes</th>\n",
       "      <th>total_votes</th>\n",
       "    </tr>\n",
       "  </thead>\n",
       "  <tbody>\n",
       "    <tr>\n",
       "      <th>count</th>\n",
       "      <td>5.049291e+06</td>\n",
       "      <td>5.049291e+06</td>\n",
       "      <td>5.049287e+06</td>\n",
       "      <td>5.049287e+06</td>\n",
       "      <td>5.049287e+06</td>\n",
       "    </tr>\n",
       "    <tr>\n",
       "      <th>mean</th>\n",
       "      <td>3.094148e+07</td>\n",
       "      <td>4.998088e+08</td>\n",
       "      <td>4.301129e+00</td>\n",
       "      <td>2.964645e+00</td>\n",
       "      <td>4.562956e+00</td>\n",
       "    </tr>\n",
       "    <tr>\n",
       "      <th>std</th>\n",
       "      <td>1.524062e+07</td>\n",
       "      <td>2.882336e+08</td>\n",
       "      <td>1.181560e+00</td>\n",
       "      <td>1.911466e+01</td>\n",
       "      <td>2.204417e+01</td>\n",
       "    </tr>\n",
       "    <tr>\n",
       "      <th>min</th>\n",
       "      <td>1.000100e+04</td>\n",
       "      <td>1.658000e+03</td>\n",
       "      <td>1.000000e+00</td>\n",
       "      <td>0.000000e+00</td>\n",
       "      <td>0.000000e+00</td>\n",
       "    </tr>\n",
       "    <tr>\n",
       "      <th>25%</th>\n",
       "      <td>1.667348e+07</td>\n",
       "      <td>2.494515e+08</td>\n",
       "      <td>4.000000e+00</td>\n",
       "      <td>0.000000e+00</td>\n",
       "      <td>0.000000e+00</td>\n",
       "    </tr>\n",
       "    <tr>\n",
       "      <th>50%</th>\n",
       "      <td>3.171011e+07</td>\n",
       "      <td>5.020783e+08</td>\n",
       "      <td>5.000000e+00</td>\n",
       "      <td>0.000000e+00</td>\n",
       "      <td>1.000000e+00</td>\n",
       "    </tr>\n",
       "    <tr>\n",
       "      <th>75%</th>\n",
       "      <td>4.522751e+07</td>\n",
       "      <td>7.515318e+08</td>\n",
       "      <td>5.000000e+00</td>\n",
       "      <td>2.000000e+00</td>\n",
       "      <td>4.000000e+00</td>\n",
       "    </tr>\n",
       "    <tr>\n",
       "      <th>max</th>\n",
       "      <td>5.309659e+07</td>\n",
       "      <td>9.999959e+08</td>\n",
       "      <td>5.000000e+00</td>\n",
       "      <td>2.092800e+04</td>\n",
       "      <td>2.298200e+04</td>\n",
       "    </tr>\n",
       "  </tbody>\n",
       "</table>\n",
       "</div>"
      ],
      "text/plain": [
       "        customer_id  product_parent   star_rating  helpful_votes   total_votes\n",
       "count  5.049291e+06    5.049291e+06  5.049287e+06   5.049287e+06  5.049287e+06\n",
       "mean   3.094148e+07    4.998088e+08  4.301129e+00   2.964645e+00  4.562956e+00\n",
       "std    1.524062e+07    2.882336e+08  1.181560e+00   1.911466e+01  2.204417e+01\n",
       "min    1.000100e+04    1.658000e+03  1.000000e+00   0.000000e+00  0.000000e+00\n",
       "25%    1.667348e+07    2.494515e+08  4.000000e+00   0.000000e+00  0.000000e+00\n",
       "50%    3.171011e+07    5.020783e+08  5.000000e+00   0.000000e+00  1.000000e+00\n",
       "75%    4.522751e+07    7.515318e+08  5.000000e+00   2.000000e+00  4.000000e+00\n",
       "max    5.309659e+07    9.999959e+08  5.000000e+00   2.092800e+04  2.298200e+04"
      ]
     },
     "execution_count": 64,
     "metadata": {},
     "output_type": "execute_result"
    }
   ],
   "source": [
    "# Statictic reviews\n",
    "df.describe()"
   ]
  },
  {
   "cell_type": "code",
   "execution_count": 65,
   "id": "94be8bda",
   "metadata": {},
   "outputs": [
    {
     "data": {
      "text/plain": [
       "marketplace            0\n",
       "customer_id            0\n",
       "review_id              0\n",
       "product_id             0\n",
       "product_parent         0\n",
       "product_title          0\n",
       "product_category       0\n",
       "star_rating            4\n",
       "helpful_votes          4\n",
       "total_votes            4\n",
       "vine                   4\n",
       "verified_purchase      4\n",
       "review_headline       73\n",
       "review_body           31\n",
       "review_date          436\n",
       "dtype: int64"
      ]
     },
     "execution_count": 65,
     "metadata": {},
     "output_type": "execute_result"
    }
   ],
   "source": [
    "# Number of Null values in the whole dataset\n",
    "missing_value=df.isnull().sum()\n",
    "missing_value"
   ]
  },
  {
   "cell_type": "code",
   "execution_count": 66,
   "id": "9b6a6cdd",
   "metadata": {},
   "outputs": [],
   "source": [
    "# make dataset smaller , Choose 4 features\n",
    "df_reduced = df[['customer_id', 'product_id', 'star_rating', 'product_title']]"
   ]
  },
  {
   "cell_type": "code",
   "execution_count": 67,
   "id": "8ba0d4be",
   "metadata": {},
   "outputs": [
    {
     "data": {
      "text/plain": [
       "11039"
      ]
     },
     "execution_count": 67,
     "metadata": {},
     "output_type": "execute_result"
    }
   ],
   "source": [
    "# Number of duplicated rows in selected dataset\n",
    "duplicates = df_reduced[df_reduced.duplicated()]\n",
    "\n",
    "len(duplicates)"
   ]
  },
  {
   "cell_type": "code",
   "execution_count": 68,
   "id": "fc2f87fa",
   "metadata": {},
   "outputs": [],
   "source": [
    "# deleting duplicated data\n",
    "df_reduced = df_reduced[~df_reduced.duplicated()]"
   ]
  },
  {
   "cell_type": "code",
   "execution_count": 69,
   "id": "5e5186f4",
   "metadata": {},
   "outputs": [
    {
     "name": "stdout",
     "output_type": "stream",
     "text": [
      "Size of dataset: (5038252, 4)\n",
      "Total reviews in reduced dataset 5038252\n"
     ]
    }
   ],
   "source": [
    "# Size of the reduced dataset\n",
    "print('Size of dataset:',df_reduced.shape)\n",
    "print('Total reviews in reduced dataset',df_reduced.shape[0])"
   ]
  },
  {
   "cell_type": "code",
   "execution_count": 70,
   "id": "405f7edc",
   "metadata": {},
   "outputs": [
    {
     "data": {
      "text/html": [
       "<div>\n",
       "<style scoped>\n",
       "    .dataframe tbody tr th:only-of-type {\n",
       "        vertical-align: middle;\n",
       "    }\n",
       "\n",
       "    .dataframe tbody tr th {\n",
       "        vertical-align: top;\n",
       "    }\n",
       "\n",
       "    .dataframe thead th {\n",
       "        text-align: right;\n",
       "    }\n",
       "</style>\n",
       "<table border=\"1\" class=\"dataframe\">\n",
       "  <thead>\n",
       "    <tr style=\"text-align: right;\">\n",
       "      <th></th>\n",
       "      <th>customer_id</th>\n",
       "      <th>product_id</th>\n",
       "      <th>star_rating</th>\n",
       "      <th>product_title</th>\n",
       "    </tr>\n",
       "  </thead>\n",
       "  <tbody>\n",
       "    <tr>\n",
       "      <th>0</th>\n",
       "      <td>27288431</td>\n",
       "      <td>B005T4ND06</td>\n",
       "      <td>5.0</td>\n",
       "      <td>Yoga for Movement Disorders DVD: Rebuilding St...</td>\n",
       "    </tr>\n",
       "    <tr>\n",
       "      <th>1</th>\n",
       "      <td>13722556</td>\n",
       "      <td>B004EPZ070</td>\n",
       "      <td>5.0</td>\n",
       "      <td>Something Borrowed</td>\n",
       "    </tr>\n",
       "    <tr>\n",
       "      <th>2</th>\n",
       "      <td>20381037</td>\n",
       "      <td>B005S9EKCW</td>\n",
       "      <td>5.0</td>\n",
       "      <td>Les Miserables (2012) [Blu-ray]</td>\n",
       "    </tr>\n",
       "    <tr>\n",
       "      <th>3</th>\n",
       "      <td>24852644</td>\n",
       "      <td>B00FC1ZCB4</td>\n",
       "      <td>5.0</td>\n",
       "      <td>Alien Anthology and Prometheus Bundle [Blu-ray]</td>\n",
       "    </tr>\n",
       "    <tr>\n",
       "      <th>4</th>\n",
       "      <td>15556113</td>\n",
       "      <td>B002ZG98Z0</td>\n",
       "      <td>5.0</td>\n",
       "      <td>Sex and the City 2</td>\n",
       "    </tr>\n",
       "  </tbody>\n",
       "</table>\n",
       "</div>"
      ],
      "text/plain": [
       "   customer_id  product_id  star_rating  \\\n",
       "0     27288431  B005T4ND06          5.0   \n",
       "1     13722556  B004EPZ070          5.0   \n",
       "2     20381037  B005S9EKCW          5.0   \n",
       "3     24852644  B00FC1ZCB4          5.0   \n",
       "4     15556113  B002ZG98Z0          5.0   \n",
       "\n",
       "                                       product_title  \n",
       "0  Yoga for Movement Disorders DVD: Rebuilding St...  \n",
       "1                                 Something Borrowed  \n",
       "2                    Les Miserables (2012) [Blu-ray]  \n",
       "3    Alien Anthology and Prometheus Bundle [Blu-ray]  \n",
       "4                                 Sex and the City 2  "
      ]
     },
     "execution_count": 70,
     "metadata": {},
     "output_type": "execute_result"
    }
   ],
   "source": [
    "# 5 first rows\n",
    "df_reduced.head(5)"
   ]
  },
  {
   "cell_type": "code",
   "execution_count": 71,
   "id": "67f43f27",
   "metadata": {},
   "outputs": [
    {
     "name": "stdout",
     "output_type": "stream",
     "text": [
      "Total number of ratings : 5\n",
      "Total number of users   : 2071004\n",
      "Total number of products: 297525\n",
      "Total number of titles  : 272361\n"
     ]
    }
   ],
   "source": [
    "df_reduced\n",
    "print(\"Total number of ratings :\",df_reduced.star_rating.nunique())\n",
    "print(\"Total number of users   :\", df_reduced.customer_id.nunique())\n",
    "print(\"Total number of products:\", df_reduced.product_id.nunique())\n",
    "print(\"Total number of titles  :\", df_reduced.product_title.nunique())"
   ]
  },
  {
   "cell_type": "code",
   "execution_count": 72,
   "id": "c8e4bdfd",
   "metadata": {},
   "outputs": [
    {
     "name": "stdout",
     "output_type": "stream",
     "text": [
      "<class 'pandas.core.frame.DataFrame'>\n",
      "Int64Index: 5038252 entries, 0 to 5049290\n",
      "Data columns (total 4 columns):\n",
      " #   Column         Non-Null Count    Dtype  \n",
      "---  ------         --------------    -----  \n",
      " 0   customer_id    5038252 non-null  int64  \n",
      " 1   product_id     5038252 non-null  object \n",
      " 2   star_rating    5038248 non-null  float64\n",
      " 3   product_title  5038252 non-null  object \n",
      "dtypes: float64(1), int64(1), object(2)\n",
      "memory usage: 192.2+ MB\n"
     ]
    }
   ],
   "source": [
    "# Checking dataset for Null values\n",
    "df_reduced.info(null_counts=True)"
   ]
  },
  {
   "cell_type": "code",
   "execution_count": 73,
   "id": "775776ea",
   "metadata": {},
   "outputs": [
    {
     "data": {
      "text/plain": [
       "customer_id      0\n",
       "product_id       0\n",
       "star_rating      4\n",
       "product_title    0\n",
       "dtype: int64"
      ]
     },
     "execution_count": 73,
     "metadata": {},
     "output_type": "execute_result"
    }
   ],
   "source": [
    "# Number of Null values\n",
    "df_reduced.isnull().sum()"
   ]
  },
  {
   "cell_type": "code",
   "execution_count": 74,
   "id": "92e13aa1",
   "metadata": {},
   "outputs": [
    {
     "data": {
      "text/html": [
       "<div>\n",
       "<style scoped>\n",
       "    .dataframe tbody tr th:only-of-type {\n",
       "        vertical-align: middle;\n",
       "    }\n",
       "\n",
       "    .dataframe tbody tr th {\n",
       "        vertical-align: top;\n",
       "    }\n",
       "\n",
       "    .dataframe thead th {\n",
       "        text-align: right;\n",
       "    }\n",
       "</style>\n",
       "<table border=\"1\" class=\"dataframe\">\n",
       "  <thead>\n",
       "    <tr style=\"text-align: right;\">\n",
       "      <th></th>\n",
       "      <th>customer_id</th>\n",
       "      <th>star_rating</th>\n",
       "    </tr>\n",
       "  </thead>\n",
       "  <tbody>\n",
       "    <tr>\n",
       "      <th>count</th>\n",
       "      <td>5.038252e+06</td>\n",
       "      <td>5.038248e+06</td>\n",
       "    </tr>\n",
       "    <tr>\n",
       "      <th>mean</th>\n",
       "      <td>3.091728e+07</td>\n",
       "      <td>4.301389e+00</td>\n",
       "    </tr>\n",
       "    <tr>\n",
       "      <th>std</th>\n",
       "      <td>1.524148e+07</td>\n",
       "      <td>1.181123e+00</td>\n",
       "    </tr>\n",
       "    <tr>\n",
       "      <th>min</th>\n",
       "      <td>1.000100e+04</td>\n",
       "      <td>1.000000e+00</td>\n",
       "    </tr>\n",
       "    <tr>\n",
       "      <th>25%</th>\n",
       "      <td>1.664697e+07</td>\n",
       "      <td>4.000000e+00</td>\n",
       "    </tr>\n",
       "    <tr>\n",
       "      <th>50%</th>\n",
       "      <td>3.165747e+07</td>\n",
       "      <td>5.000000e+00</td>\n",
       "    </tr>\n",
       "    <tr>\n",
       "      <th>75%</th>\n",
       "      <td>4.520624e+07</td>\n",
       "      <td>5.000000e+00</td>\n",
       "    </tr>\n",
       "    <tr>\n",
       "      <th>max</th>\n",
       "      <td>5.309659e+07</td>\n",
       "      <td>5.000000e+00</td>\n",
       "    </tr>\n",
       "  </tbody>\n",
       "</table>\n",
       "</div>"
      ],
      "text/plain": [
       "        customer_id   star_rating\n",
       "count  5.038252e+06  5.038248e+06\n",
       "mean   3.091728e+07  4.301389e+00\n",
       "std    1.524148e+07  1.181123e+00\n",
       "min    1.000100e+04  1.000000e+00\n",
       "25%    1.664697e+07  4.000000e+00\n",
       "50%    3.165747e+07  5.000000e+00\n",
       "75%    4.520624e+07  5.000000e+00\n",
       "max    5.309659e+07  5.000000e+00"
      ]
     },
     "execution_count": 74,
     "metadata": {},
     "output_type": "execute_result"
    }
   ],
   "source": [
    "df_reduced.describe()"
   ]
  },
  {
   "cell_type": "code",
   "execution_count": 75,
   "id": "f1d608d9",
   "metadata": {},
   "outputs": [
    {
     "name": "stdout",
     "output_type": "stream",
     "text": [
      "Unique value of Rating: [ 5.  4.  1.  3.  2. nan]\n"
     ]
    }
   ],
   "source": [
    "print(\"Unique value of Rating:\",df_reduced.star_rating.unique())"
   ]
  },
  {
   "cell_type": "code",
   "execution_count": 76,
   "id": "ed891fcf",
   "metadata": {},
   "outputs": [],
   "source": [
    "# deleting NA\n",
    "df_reduced=df_reduced.dropna()"
   ]
  },
  {
   "cell_type": "code",
   "execution_count": 77,
   "id": "1cb02a27",
   "metadata": {},
   "outputs": [
    {
     "name": "stdout",
     "output_type": "stream",
     "text": [
      "Unique value of Rating: [5. 4. 1. 3. 2.]\n"
     ]
    }
   ],
   "source": [
    "print(\"Unique value of Rating:\",df_reduced.star_rating.unique())"
   ]
  },
  {
   "cell_type": "code",
   "execution_count": 78,
   "id": "95361527",
   "metadata": {},
   "outputs": [],
   "source": [
    "# data visualization"
   ]
  },
  {
   "cell_type": "code",
   "execution_count": 79,
   "id": "827d5dbd",
   "metadata": {},
   "outputs": [
    {
     "data": {
      "text/html": [
       "<div>\n",
       "<style scoped>\n",
       "    .dataframe tbody tr th:only-of-type {\n",
       "        vertical-align: middle;\n",
       "    }\n",
       "\n",
       "    .dataframe tbody tr th {\n",
       "        vertical-align: top;\n",
       "    }\n",
       "\n",
       "    .dataframe thead th {\n",
       "        text-align: right;\n",
       "    }\n",
       "</style>\n",
       "<table border=\"1\" class=\"dataframe\">\n",
       "  <thead>\n",
       "    <tr style=\"text-align: right;\">\n",
       "      <th></th>\n",
       "      <th>star_rating</th>\n",
       "      <th>ratings_count</th>\n",
       "      <th>ratings_average</th>\n",
       "    </tr>\n",
       "    <tr>\n",
       "      <th>product_id</th>\n",
       "      <th></th>\n",
       "      <th></th>\n",
       "      <th></th>\n",
       "    </tr>\n",
       "  </thead>\n",
       "  <tbody>\n",
       "    <tr>\n",
       "      <th>0000143502</th>\n",
       "      <td>5.0</td>\n",
       "      <td>1</td>\n",
       "      <td>5.0</td>\n",
       "    </tr>\n",
       "    <tr>\n",
       "      <th>0000143529</th>\n",
       "      <td>5.0</td>\n",
       "      <td>1</td>\n",
       "      <td>5.0</td>\n",
       "    </tr>\n",
       "    <tr>\n",
       "      <th>0000143561</th>\n",
       "      <td>2.0</td>\n",
       "      <td>1</td>\n",
       "      <td>2.0</td>\n",
       "    </tr>\n",
       "    <tr>\n",
       "      <th>000014357X</th>\n",
       "      <td>4.8</td>\n",
       "      <td>5</td>\n",
       "      <td>4.8</td>\n",
       "    </tr>\n",
       "    <tr>\n",
       "      <th>0000143588</th>\n",
       "      <td>5.0</td>\n",
       "      <td>1</td>\n",
       "      <td>5.0</td>\n",
       "    </tr>\n",
       "  </tbody>\n",
       "</table>\n",
       "</div>"
      ],
      "text/plain": [
       "            star_rating  ratings_count  ratings_average\n",
       "product_id                                             \n",
       "0000143502          5.0              1              5.0\n",
       "0000143529          5.0              1              5.0\n",
       "0000143561          2.0              1              2.0\n",
       "000014357X          4.8              5              4.8\n",
       "0000143588          5.0              1              5.0"
      ]
     },
     "execution_count": 79,
     "metadata": {},
     "output_type": "execute_result"
    }
   ],
   "source": [
    "\n",
    "ratings = pd.DataFrame(df_reduced.groupby('product_id')['star_rating'].mean())\n",
    "# number of rateing to DVDs\n",
    "ratings['ratings_count'] = pd.DataFrame(df_reduced.groupby('product_id')['star_rating'].count())\n",
    "# calculate mean of rating for each DVDs\n",
    "ratings['ratings_average'] = pd.DataFrame(df_reduced.groupby('product_id')['star_rating'].mean())\n",
    "ratings.head(5)"
   ]
  },
  {
   "cell_type": "code",
   "execution_count": 80,
   "id": "690bda6f",
   "metadata": {},
   "outputs": [
    {
     "data": {
      "image/png": "[encoded data removed]",
      "text/plain": [
       "<Figure size 1000x400 with 1 Axes>"
      ]
     },
     "metadata": {},
     "output_type": "display_data"
    }
   ],
   "source": [
    "plt.figure(figsize=(10,4))\n",
    "ratings['star_rating'].hist(bins=70)\n",
    "plt.show()"
   ]
  },
  {
   "cell_type": "code",
   "execution_count": 81,
   "id": "726f366d",
   "metadata": {},
   "outputs": [
    {
     "data": {
      "image/png": "[encoded data removed]",
      "text/plain": [
       "<Figure size 640x480 with 1 Axes>"
      ]
     },
     "metadata": {},
     "output_type": "display_data"
    }
   ],
   "source": [
    "d=df_reduced['star_rating'].value_counts().reset_index()\n",
    "d.plot()\n",
    "plt.show()"
   ]
  },
  {
   "cell_type": "code",
   "execution_count": 82,
   "id": "3618b2f3",
   "metadata": {},
   "outputs": [
    {
     "data": {
      "image/png": "[encoded data removed]",
      "text/plain": [
       "<Figure size 640x480 with 1 Axes>"
      ]
     },
     "metadata": {},
     "output_type": "display_data"
    }
   ],
   "source": [
    "d=df_reduced['star_rating'].value_counts().reset_index()\n",
    "sb.barplot(\n",
    "    x='index',\n",
    "    y='star_rating',\n",
    "    data=d\n",
    "    \n",
    "    \n",
    ")\n",
    "plt.show()"
   ]
  },
  {
   "cell_type": "code",
   "execution_count": 83,
   "id": "e04101cc",
   "metadata": {},
   "outputs": [
    {
     "data": {
      "image/png": "[encoded data removed]",
      "text/plain": [
       "<Figure size 1200x400 with 1 Axes>"
      ]
     },
     "metadata": {},
     "output_type": "display_data"
    }
   ],
   "source": [
    "# Most top 10 products\n",
    "popular_products = pd.DataFrame(df_reduced.groupby('product_id')['star_rating'].count())\n",
    "most_popular = popular_products.sort_values('star_rating', ascending=False)\n",
    "most_popular.head(10).plot(kind = \"bar\",figsize=(12, 4))\n",
    "plt.show()"
   ]
  },
  {
   "cell_type": "code",
   "execution_count": 84,
   "id": "377f5127",
   "metadata": {},
   "outputs": [
    {
     "data": {
      "image/png": "[encoded data removed]",
      "text/plain": [
       "<Figure size 640x480 with 1 Axes>"
      ]
     },
     "metadata": {},
     "output_type": "display_data"
    }
   ],
   "source": [
    "# Number of rating base of each months\n",
    "df['review_date']=pd.to_datetime(df.review_date)\n",
    "xx=df.groupby(df.review_date.dt.month).star_rating.count().reset_index()\n",
    "sb.barplot(x='review_date',y='star_rating',data=xx)\n",
    "plt.show()"
   ]
  },
  {
   "cell_type": "code",
   "execution_count": 85,
   "id": "a3e652d2",
   "metadata": {},
   "outputs": [
    {
     "data": {
      "image/png": "[encoded data removed]",
      "text/plain": [
       "<Figure size 1000x500 with 1 Axes>"
      ]
     },
     "metadata": {},
     "output_type": "display_data"
    }
   ],
   "source": [
    "# Number of rating base of years\n",
    "d2=df.groupby(df.review_date.dt.year).star_rating.count().reset_index()\n",
    "fig=plt.gcf()\n",
    "fig.set_size_inches(10,5)\n",
    "sb.barplot(x='review_date',y='star_rating',data=d2)\n",
    "\n",
    "plt.show()"
   ]
  },
  {
   "cell_type": "code",
   "execution_count": null,
   "id": "20a6c7f3",
   "metadata": {},
   "outputs": [],
   "source": []
  }
 ],
 "metadata": {
  "kernelspec": {
   "display_name": "Python 3 (ipykernel)",
   "language": "python",
   "name": "python3"
  },
  "language_info": {
   "codemirror_mode": {
    "name": "ipython",
    "version": 3
   },
   "file_extension": ".py",
   "mimetype": "text/x-python",
   "name": "python",
   "nbconvert_exporter": "python",
   "pygments_lexer": "ipython3",
   "version": "3.9.13"
  }
 },
 "nbformat": 4,
 "nbformat_minor": 5
}
